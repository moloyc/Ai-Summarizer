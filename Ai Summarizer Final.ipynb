{
 "cells": [
  {
   "cell_type": "code",
   "id": "initial_id",
   "metadata": {
    "collapsed": true,
    "ExecuteTime": {
     "end_time": "2024-08-12T15:24:03.957459Z",
     "start_time": "2024-08-12T15:24:02.947488Z"
    }
   },
   "source": "!pip install transformers",
   "outputs": [
    {
     "name": "stdout",
     "output_type": "stream",
     "text": [
      "Requirement already satisfied: transformers in /home/park/PycharmProjects/hs-python/.venv/lib/python3.10/site-packages (4.44.0)\r\n",
      "Requirement already satisfied: filelock in /home/park/PycharmProjects/hs-python/.venv/lib/python3.10/site-packages (from transformers) (3.15.4)\r\n",
      "Requirement already satisfied: huggingface-hub<1.0,>=0.23.2 in /home/park/PycharmProjects/hs-python/.venv/lib/python3.10/site-packages (from transformers) (0.24.5)\r\n",
      "Requirement already satisfied: numpy>=1.17 in /home/park/PycharmProjects/hs-python/.venv/lib/python3.10/site-packages (from transformers) (2.0.1)\r\n",
      "Requirement already satisfied: packaging>=20.0 in /home/park/PycharmProjects/hs-python/.venv/lib/python3.10/site-packages (from transformers) (24.1)\r\n",
      "Requirement already satisfied: pyyaml>=5.1 in /home/park/PycharmProjects/hs-python/.venv/lib/python3.10/site-packages (from transformers) (6.0.1)\r\n",
      "Requirement already satisfied: regex!=2019.12.17 in /home/park/PycharmProjects/hs-python/.venv/lib/python3.10/site-packages (from transformers) (2024.7.24)\r\n",
      "Requirement already satisfied: requests in /home/park/PycharmProjects/hs-python/.venv/lib/python3.10/site-packages (from transformers) (2.32.3)\r\n",
      "Requirement already satisfied: safetensors>=0.4.1 in /home/park/PycharmProjects/hs-python/.venv/lib/python3.10/site-packages (from transformers) (0.4.4)\r\n",
      "Requirement already satisfied: tokenizers<0.20,>=0.19 in /home/park/PycharmProjects/hs-python/.venv/lib/python3.10/site-packages (from transformers) (0.19.1)\r\n",
      "Requirement already satisfied: tqdm>=4.27 in /home/park/PycharmProjects/hs-python/.venv/lib/python3.10/site-packages (from transformers) (4.66.5)\r\n",
      "Requirement already satisfied: fsspec>=2023.5.0 in /home/park/PycharmProjects/hs-python/.venv/lib/python3.10/site-packages (from huggingface-hub<1.0,>=0.23.2->transformers) (2024.6.1)\r\n",
      "Requirement already satisfied: typing-extensions>=3.7.4.3 in /home/park/PycharmProjects/hs-python/.venv/lib/python3.10/site-packages (from huggingface-hub<1.0,>=0.23.2->transformers) (4.12.2)\r\n",
      "Requirement already satisfied: charset-normalizer<4,>=2 in /home/park/PycharmProjects/hs-python/.venv/lib/python3.10/site-packages (from requests->transformers) (3.3.2)\r\n",
      "Requirement already satisfied: idna<4,>=2.5 in /home/park/PycharmProjects/hs-python/.venv/lib/python3.10/site-packages (from requests->transformers) (3.7)\r\n",
      "Requirement already satisfied: urllib3<3,>=1.21.1 in /home/park/PycharmProjects/hs-python/.venv/lib/python3.10/site-packages (from requests->transformers) (2.2.2)\r\n",
      "Requirement already satisfied: certifi>=2017.4.17 in /home/park/PycharmProjects/hs-python/.venv/lib/python3.10/site-packages (from requests->transformers) (2024.7.4)\r\n"
     ]
    }
   ],
   "execution_count": 1
  },
  {
   "metadata": {
    "ExecuteTime": {
     "end_time": "2024-08-12T15:24:06.193825Z",
     "start_time": "2024-08-12T15:24:05.043480Z"
    }
   },
   "cell_type": "code",
   "source": "pip install --upgrade pip",
   "id": "c2f2b9990d083976",
   "outputs": [
    {
     "name": "stdout",
     "output_type": "stream",
     "text": [
      "Requirement already satisfied: pip in /home/park/PycharmProjects/hs-python/.venv/lib/python3.10/site-packages (24.2)\r\n",
      "Note: you may need to restart the kernel to use updated packages.\n"
     ]
    }
   ],
   "execution_count": 2
  },
  {
   "metadata": {
    "ExecuteTime": {
     "end_time": "2024-08-12T15:24:11.422276Z",
     "start_time": "2024-08-12T15:24:07.930264Z"
    }
   },
   "cell_type": "code",
   "source": [
    "# Use a pipeline as a high-level helper\n",
    "from transformers import pipeline\n",
    "\n",
    "pipe = pipeline(\"summarization\", model=\"sshleifer/distilbart-cnn-12-6\")"
   ],
   "id": "b5c833c74d4f82b2",
   "outputs": [
    {
     "name": "stderr",
     "output_type": "stream",
     "text": [
      "/home/park/PycharmProjects/hs-python/.venv/lib/python3.10/site-packages/transformers/tokenization_utils_base.py:1601: FutureWarning: `clean_up_tokenization_spaces` was not set. It will be set to `True` by default. This behavior will be depracted in transformers v4.45, and will be then set to `False` by default. For more details check this issue: https://github.com/huggingface/transformers/issues/31884\n",
      "  warnings.warn(\n",
      "/home/park/PycharmProjects/hs-python/.venv/lib/python3.10/site-packages/torch/cuda/__init__.py:128: UserWarning: CUDA initialization: The NVIDIA driver on your system is too old (found version 11040). Please update your GPU driver by downloading and installing a new version from the URL: http://www.nvidia.com/Download/index.aspx Alternatively, go to: https://pytorch.org to install a PyTorch version that has been compiled with your version of the CUDA driver. (Triggered internally at ../c10/cuda/CUDAFunctions.cpp:108.)\n",
      "  return torch._C._cuda_getDeviceCount() > 0\n"
     ]
    }
   ],
   "execution_count": 3
  },
  {
   "metadata": {
    "ExecuteTime": {
     "end_time": "2024-08-12T16:06:25.102169Z",
     "start_time": "2024-08-12T16:06:24.443685Z"
    }
   },
   "cell_type": "code",
   "source": [
    "# Load model directly\n",
    "from transformers import AutoTokenizer, AutoModelForSeq2SeqLM\n",
    "\n",
    "tokenizer = AutoTokenizer.from_pretrained(\"sshleifer/distilbart-cnn-12-6\")\n",
    "model = AutoModelForSeq2SeqLM.from_pretrained(\"sshleifer/distilbart-cnn-12-6\")"
   ],
   "id": "cb17e7b1e7c09120",
   "outputs": [],
   "execution_count": 32
  },
  {
   "metadata": {
    "ExecuteTime": {
     "end_time": "2024-08-12T16:18:29.914648Z",
     "start_time": "2024-08-12T16:17:41.657447Z"
    }
   },
   "cell_type": "code",
   "source": [
    "import tkinter as tk\n",
    "from transformers import pipeline\n",
    "\n",
    "# Assuming you have a text summarization pipeline set up\n",
    "pipe = pipeline(\"summarization\")\n",
    "\n",
    "# Create the main window\n",
    "root = tk.Tk()\n",
    "root.title(\"QuickGist\")\n",
    "\n",
    "# Set the window size\n",
    "root.geometry(\"900x600\")\n",
    "\n",
    "# Create a label with the welcome message\n",
    "welcome_label = tk.Label(root, text=\"Hello, welcome to QuickGist!\")\n",
    "welcome_label.pack(pady=10)\n",
    "\n",
    "# Create a label and entry for the minimum text size\n",
    "min_size_label = tk.Label(root, text=\"How many words should the min summary be:\")\n",
    "min_size_label.pack()\n",
    "min_size_entry = tk.Entry(root, width=30)\n",
    "min_size_entry.pack(pady=5)\n",
    "\n",
    "# Create a label and entry for the maximum text size\n",
    "max_size_label = tk.Label(root, text=\"How many words should the max summary be:\")\n",
    "max_size_label.pack()\n",
    "max_size_entry = tk.Entry(root, width=30)\n",
    "max_size_entry.pack(pady=5)\n",
    "\n",
    "# Create a label and entry for the paragraph\n",
    "paragraph_label = tk.Label(root, text=\"Enter the article you want to summarize: \")\n",
    "paragraph_label.pack()\n",
    "paragraph_entry = tk.Entry(root, width=60)\n",
    "paragraph_entry.pack(pady=5)\n",
    "\n",
    "# Create a function to handle button click\n",
    "def on_button_click():\n",
    "    try:\n",
    "        min_size = int(min_size_entry.get())\n",
    "        max_size = int(max_size_entry.get())\n",
    "    except ValueError:\n",
    "        result_label.config(text=\"Please enter valid integers for min and max sizes.\")\n",
    "        return\n",
    "    \n",
    "    paragraph = paragraph_entry.get()\n",
    "    \n",
    "    # Call the summarization pipeline\n",
    "    summarized = pipe(paragraph, max_length=max_size, min_length=min_size, do_sample=False)\n",
    "    \n",
    "    # Extract the summarized text\n",
    "    summarized_text = summarized[0]['summary_text']\n",
    "    \n",
    "    # Display the results\n",
    "    result_label.config(text=f\"Your summarized text:\\n\\n{summarized_text}\")\n",
    "\n",
    "# Create a button that triggers the function\n",
    "submit_button = tk.Button(root, text=\"Submit\", command=on_button_click)\n",
    "submit_button.pack(pady=10)\n",
    "\n",
    "# Create a label to display the results\n",
    "result_label = tk.Label(root, text=\"\", wraplength=850, justify=\"left\")\n",
    "result_label.pack(pady=10)\n",
    "\n",
    "# Run the application\n",
    "root.mainloop()\n",
    "\n"
   ],
   "id": "d167e968e4b8e83",
   "outputs": [
    {
     "name": "stderr",
     "output_type": "stream",
     "text": [
      "No model was supplied, defaulted to sshleifer/distilbart-cnn-12-6 and revision a4f8f3e (https://huggingface.co/sshleifer/distilbart-cnn-12-6).\n",
      "Using a pipeline without specifying a model name and revision in production is not recommended.\n",
      "/home/park/PycharmProjects/hs-python/.venv/lib/python3.10/site-packages/transformers/tokenization_utils_base.py:1601: FutureWarning: `clean_up_tokenization_spaces` was not set. It will be set to `True` by default. This behavior will be depracted in transformers v4.45, and will be then set to `False` by default. For more details check this issue: https://github.com/huggingface/transformers/issues/31884\n",
      "  warnings.warn(\n"
     ]
    }
   ],
   "execution_count": 2
  },
  {
   "metadata": {},
   "cell_type": "code",
   "outputs": [],
   "execution_count": null,
   "source": "",
   "id": "ba1948fdd8328039"
  }
 ],
 "metadata": {
  "kernelspec": {
   "display_name": "Python 3",
   "language": "python",
   "name": "python3"
  },
  "language_info": {
   "codemirror_mode": {
    "name": "ipython",
    "version": 2
   },
   "file_extension": ".py",
   "mimetype": "text/x-python",
   "name": "python",
   "nbconvert_exporter": "python",
   "pygments_lexer": "ipython2",
   "version": "2.7.6"
  }
 },
 "nbformat": 4,
 "nbformat_minor": 5
}
